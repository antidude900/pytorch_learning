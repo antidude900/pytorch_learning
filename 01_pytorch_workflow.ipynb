{
  "nbformat": 4,
  "nbformat_minor": 0,
  "metadata": {
    "colab": {
      "provenance": [],
      "gpuType": "T4",
      "authorship_tag": "ABX9TyPc+rkNhB2lODqDJa4cEjXl",
      "include_colab_link": true
    },
    "kernelspec": {
      "name": "python3",
      "display_name": "Python 3"
    },
    "language_info": {
      "name": "python"
    },
    "accelerator": "GPU"
  },
  "cells": [
    {
      "cell_type": "markdown",
      "metadata": {
        "id": "view-in-github",
        "colab_type": "text"
      },
      "source": [
        "<a href=\"https://colab.research.google.com/github/antidude900/pytorch_learning/blob/main/01_pytorch_workflow.ipynb\" target=\"_parent\"><img src=\"https://colab.research.google.com/assets/colab-badge.svg\" alt=\"Open In Colab\"/></a>"
      ]
    },
    {
      "cell_type": "code",
      "execution_count": null,
      "metadata": {
        "id": "tjv-ndx3QQaN"
      },
      "outputs": [],
      "source": [
        "import torch\n",
        "from torch import nn\n",
        "import matplotlib.pyplot as plt\n",
        "import numpy as np"
      ]
    },
    {
      "cell_type": "code",
      "source": [
        "weight = 0.7\n",
        "bias = 0.3\n",
        "\n",
        "start = 0\n",
        "end = 1\n",
        "step = 0.02\n",
        "X=torch.arange(start,end,step).unsqueeze(1)\n",
        "Y = weight * X + bias\n",
        "\n",
        "X[:10],Y[:10]"
      ],
      "metadata": {
        "colab": {
          "base_uri": "https://localhost:8080/"
        },
        "id": "XGV8X_KQSo2r",
        "outputId": "b5d960a9-f5fe-4b75-b463-cb6c97285d40"
      },
      "execution_count": null,
      "outputs": [
        {
          "output_type": "execute_result",
          "data": {
            "text/plain": [
              "(tensor([[0.0000],\n",
              "         [0.0200],\n",
              "         [0.0400],\n",
              "         [0.0600],\n",
              "         [0.0800],\n",
              "         [0.1000],\n",
              "         [0.1200],\n",
              "         [0.1400],\n",
              "         [0.1600],\n",
              "         [0.1800]]),\n",
              " tensor([[0.3000],\n",
              "         [0.3140],\n",
              "         [0.3280],\n",
              "         [0.3420],\n",
              "         [0.3560],\n",
              "         [0.3700],\n",
              "         [0.3840],\n",
              "         [0.3980],\n",
              "         [0.4120],\n",
              "         [0.4260]]))"
            ]
          },
          "metadata": {},
          "execution_count": 3
        }
      ]
    },
    {
      "cell_type": "code",
      "source": [
        "\n",
        "print(int(len(X)))\n",
        "train_split = int(0.8*len(X))\n",
        "X_train,Y_train = X[:train_split],Y[:train_split]\n",
        "X_test,Y_test = X[train_split:],Y[train_split:]\n",
        "print(len(X_train),len(Y_train),len(X_test),len(Y_test))"
      ],
      "metadata": {
        "colab": {
          "base_uri": "https://localhost:8080/"
        },
        "id": "kKyMRm7ibxnd",
        "outputId": "e803c546-3ad6-4ea5-ee43-0ac0f6fd63d7"
      },
      "execution_count": null,
      "outputs": [
        {
          "output_type": "stream",
          "name": "stdout",
          "text": [
            "50\n",
            "40 40 10 10\n"
          ]
        }
      ]
    },
    {
      "cell_type": "code",
      "source": [],
      "metadata": {
        "id": "xhVYPdHsMrN4"
      },
      "execution_count": null,
      "outputs": []
    },
    {
      "cell_type": "code",
      "source": [
        "def plot_prediction(train_data=X_train,train_labels=Y_train,test_data=X_test,test_labels=Y_test,prediction=None):\n",
        "  plt.scatter(train_data,train_labels,c=\"b\",s=4,label=\"training data\")\n",
        "  plt.scatter(test_data,test_labels,c=\"g\",s=4,label=\"test data\")\n",
        "  if prediction is not None:\n",
        "    plt.scatter(test_data,prediction,c=\"r\",s=4,label=\"prediction\")\n",
        "\n",
        "  plt.xlabel(\"Input\")\n",
        "  plt.ylabel(\"Output\")\n",
        "  plt.legend(prop={\"size\":14})"
      ],
      "metadata": {
        "id": "406BkpY1dxNX"
      },
      "execution_count": null,
      "outputs": []
    },
    {
      "cell_type": "code",
      "source": [
        "plot_prediction()"
      ],
      "metadata": {
        "colab": {
          "base_uri": "https://localhost:8080/",
          "height": 449
        },
        "id": "vpRTSvjDfME1",
        "outputId": "6d9dc5d7-cdb3-48d1-9e59-e06351543629"
      },
      "execution_count": null,
      "outputs": [
        {
          "output_type": "display_data",
          "data": {
            "text/plain": [
              "<Figure size 640x480 with 1 Axes>"
            ],
            "image/png": "[encoded data removed]"
          },
          "metadata": {}
        }
      ]
    },
    {
      "cell_type": "code",
      "source": [
        "class LinearRegressionModel(nn.Module):\n",
        "  def __init__(self):\n",
        "    super().__init__()\n",
        "    self.weight = nn.Parameter(torch.randn(1))\n",
        "    self.bias = nn.Parameter(torch.rand(1))\n",
        "    self.temp = 0\n",
        "\n",
        "  def forward(self,x:torch.tensor)->torch.tensor:\n",
        "    return self.weight*x+self.bias"
      ],
      "metadata": {
        "id": "X-miMx1pE6zo"
      },
      "execution_count": null,
      "outputs": []
    },
    {
      "cell_type": "code",
      "source": [
        "torch.manual_seed(42)\n",
        "\n",
        "model = LinearRegressionModel()\n",
        "list(model.parameters())\n",
        "model.state_dict()"
      ],
      "metadata": {
        "colab": {
          "base_uri": "https://localhost:8080/"
        },
        "id": "SjNsO9O-FFSn",
        "outputId": "00638640-9026-47fb-ecce-b6dd7c3e6e0d"
      },
      "execution_count": null,
      "outputs": [
        {
          "output_type": "execute_result",
          "data": {
            "text/plain": [
              "OrderedDict([('weight', tensor([0.3367])), ('bias', tensor([0.3904]))])"
            ]
          },
          "metadata": {},
          "execution_count": 8
        }
      ]
    },
    {
      "cell_type": "code",
      "source": [
        "print(X_test)\n",
        "print(Y_test)"
      ],
      "metadata": {
        "colab": {
          "base_uri": "https://localhost:8080/"
        },
        "id": "k2rWsJB8eEK3",
        "outputId": "c42240d5-d48d-4d00-8cc1-bbb0b81e22a1"
      },
      "execution_count": null,
      "outputs": [
        {
          "output_type": "stream",
          "name": "stdout",
          "text": [
            "tensor([[0.8000],\n",
            "        [0.8200],\n",
            "        [0.8400],\n",
            "        [0.8600],\n",
            "        [0.8800],\n",
            "        [0.9000],\n",
            "        [0.9200],\n",
            "        [0.9400],\n",
            "        [0.9600],\n",
            "        [0.9800]])\n",
            "tensor([[0.8600],\n",
            "        [0.8740],\n",
            "        [0.8880],\n",
            "        [0.9020],\n",
            "        [0.9160],\n",
            "        [0.9300],\n",
            "        [0.9440],\n",
            "        [0.9580],\n",
            "        [0.9720],\n",
            "        [0.9860]])\n"
          ]
        }
      ]
    },
    {
      "cell_type": "code",
      "source": [
        "with torch.inference_mode():\n",
        "  y_preds=model(X_test)\n",
        "y_preds\n",
        "\n"
      ],
      "metadata": {
        "colab": {
          "base_uri": "https://localhost:8080/"
        },
        "id": "mj5ZLTYLeKGb",
        "outputId": "160217cf-7c6b-4ca6-ddd8-e6cac490d458"
      },
      "execution_count": null,
      "outputs": [
        {
          "output_type": "execute_result",
          "data": {
            "text/plain": [
              "tensor([[0.6598],\n",
              "        [0.6665],\n",
              "        [0.6733],\n",
              "        [0.6800],\n",
              "        [0.6867],\n",
              "        [0.6935],\n",
              "        [0.7002],\n",
              "        [0.7069],\n",
              "        [0.7137],\n",
              "        [0.7204]])"
            ]
          },
          "metadata": {},
          "execution_count": 10
        }
      ]
    },
    {
      "cell_type": "code",
      "source": [
        "plot_prediction(prediction=y_preds)"
      ],
      "metadata": {
        "colab": {
          "base_uri": "https://localhost:8080/",
          "height": 449
        },
        "id": "elFlNuq3eNgl",
        "outputId": "875004e3-aa52-4dad-ce0f-c89e26fbefcd"
      },
      "execution_count": null,
      "outputs": [
        {
          "output_type": "display_data",
          "data": {
            "text/plain": [
              "<Figure size 640x480 with 1 Axes>"
            ],
            "image/png": "[encoded data removed]"
          },
          "metadata": {}
        }
      ]
    },
    {
      "cell_type": "code",
      "source": [
        "loss_fn = nn.L1Loss()\n",
        "optimizer = torch.optim.SGD(params=model.parameters(),lr=0.01)"
      ],
      "metadata": {
        "id": "AuEPBqNf4H8O"
      },
      "execution_count": null,
      "outputs": []
    },
    {
      "cell_type": "code",
      "source": [
        "print(X_test.shape,y_preds.shape)"
      ],
      "metadata": {
        "id": "HzUPU39D4hsj",
        "colab": {
          "base_uri": "https://localhost:8080/"
        },
        "outputId": "85aa619e-b215-41ca-fa2f-47a24ea6f8cd"
      },
      "execution_count": null,
      "outputs": [
        {
          "output_type": "stream",
          "name": "stdout",
          "text": [
            "torch.Size([10, 1]) torch.Size([10, 1])\n"
          ]
        }
      ]
    },
    {
      "cell_type": "code",
      "source": [
        "epchos = 1000\n",
        "\n",
        "epoch_count = []\n",
        "loss_count=[]\n",
        "test_loss_count=[]\n",
        "\n",
        "for epoch in range(epchos):\n",
        "  model.train()\n",
        "\n",
        "  y_preds = model(X_train)\n",
        "\n",
        "  loss = loss_fn(y_preds,Y_train)\n",
        "\n",
        "  optimizer.zero_grad()\n",
        "\n",
        "  loss.backward()\n",
        "\n",
        "  optimizer.step()\n",
        "\n",
        "  model.eval()\n",
        "\n",
        "\n",
        "  with torch.inference_mode():\n",
        "    y_preds=model(X_test)\n",
        "    test_loss = loss_fn(y_preds,Y_test)\n",
        "\n",
        "  if (epoch%100 == 0):\n",
        "    epoch_count.append(epoch)\n",
        "    loss_count.append(loss)\n",
        "    test_loss_count.append(test_loss)\n",
        "\n",
        "    print(f\"Epoch:{epoch} | Loss:{loss} | Test Loss:{test_loss}\")\n",
        "    print(model.state_dict())\n",
        "    print(\"\\n\")\n",
        "\n",
        "plot_prediction(prediction=y_preds)\n",
        "\n"
      ],
      "metadata": {
        "colab": {
          "base_uri": "https://localhost:8080/",
          "height": 1000
        },
        "id": "4ZVRCrXVRfM4",
        "outputId": "eec6f3ad-bc7b-443b-f831-847f1114935b"
      },
      "execution_count": null,
      "outputs": [
        {
          "output_type": "stream",
          "name": "stdout",
          "text": [
            "Epoch:0 | Loss:0.08169572055339813 | Test Loss:0.22662055492401123\n",
            "OrderedDict([('weight', tensor([0.3398])), ('bias', tensor([0.3939]))])\n",
            "\n",
            "\n",
            "Epoch:100 | Loss:0.034646838903427124 | Test Loss:0.08051808178424835\n",
            "OrderedDict([('weight', tensor([0.5293])), ('bias', tensor([0.3714]))])\n",
            "\n",
            "\n",
            "Epoch:200 | Loss:0.004964242689311504 | Test Loss:0.010411137714982033\n",
            "OrderedDict([('weight', tensor([0.6923])), ('bias', tensor([0.2964]))])\n",
            "\n",
            "\n",
            "Epoch:300 | Loss:0.004964242689311504 | Test Loss:0.010411137714982033\n",
            "OrderedDict([('weight', tensor([0.6923])), ('bias', tensor([0.2964]))])\n",
            "\n",
            "\n",
            "Epoch:400 | Loss:0.004964242689311504 | Test Loss:0.010411137714982033\n",
            "OrderedDict([('weight', tensor([0.6923])), ('bias', tensor([0.2964]))])\n",
            "\n",
            "\n",
            "Epoch:500 | Loss:0.004964242689311504 | Test Loss:0.010411137714982033\n",
            "OrderedDict([('weight', tensor([0.6923])), ('bias', tensor([0.2964]))])\n",
            "\n",
            "\n",
            "Epoch:600 | Loss:0.004964242689311504 | Test Loss:0.010411137714982033\n",
            "OrderedDict([('weight', tensor([0.6923])), ('bias', tensor([0.2964]))])\n",
            "\n",
            "\n",
            "Epoch:700 | Loss:0.004964242689311504 | Test Loss:0.010411137714982033\n",
            "OrderedDict([('weight', tensor([0.6923])), ('bias', tensor([0.2964]))])\n",
            "\n",
            "\n",
            "Epoch:800 | Loss:0.004964242689311504 | Test Loss:0.010411137714982033\n",
            "OrderedDict([('weight', tensor([0.6923])), ('bias', tensor([0.2964]))])\n",
            "\n",
            "\n",
            "Epoch:900 | Loss:0.004964242689311504 | Test Loss:0.010411137714982033\n",
            "OrderedDict([('weight', tensor([0.6923])), ('bias', tensor([0.2964]))])\n",
            "\n",
            "\n"
          ]
        },
        {
          "output_type": "display_data",
          "data": {
            "text/plain": [
              "<Figure size 640x480 with 1 Axes>"
            ],
            "image/png": "[encoded data removed]"
          },
          "metadata": {}
        }
      ]
    },
    {
      "cell_type": "code",
      "source": [
        "plt.plot(epoch_count,np.array(torch.tensor(loss_count)),label=\"Train loss\")\n",
        "plt.plot(epoch_count,test_loss_count,label=\"Test loss\")\n",
        "plt.xlabel(\"Epochs\")\n",
        "plt.ylabel(\"Losses\")\n",
        "plt.legend()"
      ],
      "metadata": {
        "colab": {
          "base_uri": "https://localhost:8080/",
          "height": 466
        },
        "id": "qDN0Aa3DqNbN",
        "outputId": "9d693178-2241-4bfd-cc67-6f3db14392cc"
      },
      "execution_count": null,
      "outputs": [
        {
          "output_type": "execute_result",
          "data": {
            "text/plain": [
              "<matplotlib.legend.Legend at 0x7f134e733a00>"
            ]
          },
          "metadata": {},
          "execution_count": 15
        },
        {
          "output_type": "display_data",
          "data": {
            "text/plain": [
              "<Figure size 640x480 with 1 Axes>"
            ],
            "image/png": "[encoded data removed]"
          },
          "metadata": {}
        }
      ]
    },
    {
      "cell_type": "code",
      "source": [
        "weight,bias"
      ],
      "metadata": {
        "colab": {
          "base_uri": "https://localhost:8080/"
        },
        "id": "kLSrifk5bIPS",
        "outputId": "68212aeb-a7c3-4e5f-ea7d-fd959ee5692d"
      },
      "execution_count": null,
      "outputs": [
        {
          "output_type": "execute_result",
          "data": {
            "text/plain": [
              "(0.7, 0.3)"
            ]
          },
          "metadata": {},
          "execution_count": 16
        }
      ]
    },
    {
      "cell_type": "code",
      "source": [
        "from pathlib import Path\n",
        "\n",
        "MODEL_PATH = Path(\"model\")\n",
        "MODEL_PATH.mkdir(parents=True,exist_ok=True)\n",
        "\n",
        "MODEL_NAME = \"01_pytorch_workflow.pth\"\n",
        "MODEL_SAVE_PATH = MODEL_PATH / MODEL_NAME\n",
        "\n",
        "print(f\"SAVING TO: {MODEL_SAVE_PATH}\")\n",
        "torch.save(obj = model.state_dict(),f = MODEL_SAVE_PATH)\n"
      ],
      "metadata": {
        "colab": {
          "base_uri": "https://localhost:8080/"
        },
        "id": "FRk7We7Vf6us",
        "outputId": "b33eb1a7-3d38-47c5-8ede-e07a8758dc48"
      },
      "execution_count": null,
      "outputs": [
        {
          "output_type": "stream",
          "name": "stdout",
          "text": [
            "SAVING TO: model/01_pytorch_workflow.pth\n"
          ]
        }
      ]
    },
    {
      "cell_type": "code",
      "source": [
        "loaded_model = LinearRegressionModel()\n",
        "loaded_model.load_state_dict(torch.load(f= MODEL_SAVE_PATH))"
      ],
      "metadata": {
        "colab": {
          "base_uri": "https://localhost:8080/"
        },
        "id": "yTGF6GRFiL0W",
        "outputId": "7d775716-e2a2-44fa-bb31-deeeaf6bacf0"
      },
      "execution_count": null,
      "outputs": [
        {
          "output_type": "stream",
          "name": "stderr",
          "text": [
            "<ipython-input-18-79d546f6fe88>:2: FutureWarning: You are using `torch.load` with `weights_only=False` (the current default value), which uses the default pickle module implicitly. It is possible to construct malicious pickle data which will execute arbitrary code during unpickling (See https://github.com/pytorch/pytorch/blob/main/SECURITY.md#untrusted-models for more details). In a future release, the default value for `weights_only` will be flipped to `True`. This limits the functions that could be executed during unpickling. Arbitrary objects will no longer be allowed to be loaded via this mode unless they are explicitly allowlisted by the user via `torch.serialization.add_safe_globals`. We recommend you start setting `weights_only=True` for any use case where you don't have full control of the loaded file. Please open an issue on GitHub for any issues related to this experimental feature.\n",
            "  loaded_model.load_state_dict(torch.load(f= MODEL_SAVE_PATH))\n"
          ]
        },
        {
          "output_type": "execute_result",
          "data": {
            "text/plain": [
              "<All keys matched successfully>"
            ]
          },
          "metadata": {},
          "execution_count": 18
        }
      ]
    },
    {
      "cell_type": "code",
      "source": [
        "print(model.state_dict())\n",
        "print(loaded_model.state_dict())"
      ],
      "metadata": {
        "id": "H93UKvukia_G",
        "outputId": "9bebf4cd-6b75-476d-a85d-5c3948809b8e",
        "colab": {
          "base_uri": "https://localhost:8080/"
        }
      },
      "execution_count": null,
      "outputs": [
        {
          "output_type": "stream",
          "name": "stdout",
          "text": [
            "OrderedDict([('weight', tensor([0.6962])), ('bias', tensor([0.3064]))])\n",
            "OrderedDict([('weight', tensor([0.6962])), ('bias', tensor([0.3064]))])\n"
          ]
        }
      ]
    },
    {
      "cell_type": "code",
      "source": [],
      "metadata": {
        "id": "sh2kUcq7M29z"
      },
      "execution_count": null,
      "outputs": []
    },
    {
      "cell_type": "code",
      "source": [
        "loaded_model.eval()\n",
        "with torch.inference_mode():\n",
        "  loaded_model_preds = loaded_model(X_test)\n",
        "\n",
        "loaded_model_preds == y_preds\n"
      ],
      "metadata": {
        "colab": {
          "base_uri": "https://localhost:8080/"
        },
        "id": "slpIP9wKQCXh",
        "outputId": "81a3ad69-99aa-4a48-ee07-d423cbf97a34"
      },
      "execution_count": null,
      "outputs": [
        {
          "output_type": "execute_result",
          "data": {
            "text/plain": [
              "tensor([[True],\n",
              "        [True],\n",
              "        [True],\n",
              "        [True],\n",
              "        [True],\n",
              "        [True],\n",
              "        [True],\n",
              "        [True],\n",
              "        [True],\n",
              "        [True]])"
            ]
          },
          "metadata": {},
          "execution_count": 20
        }
      ]
    },
    {
      "cell_type": "markdown",
      "source": [
        "# Putting It all Together"
      ],
      "metadata": {
        "id": "akwBJ0RdNppz"
      }
    },
    {
      "cell_type": "code",
      "source": [
        "import torch\n",
        "from torch import nn\n",
        "import matplotlib.pyplot as plt"
      ],
      "metadata": {
        "id": "zh82e0CfNy1H"
      },
      "execution_count": null,
      "outputs": []
    },
    {
      "cell_type": "code",
      "source": [
        "device  = \"cuda\" if torch.cuda.is_available() else \"cpu\"\n",
        "print(f\"Using device: {device}\")"
      ],
      "metadata": {
        "colab": {
          "base_uri": "https://localhost:8080/"
        },
        "id": "wiayC_oIOTsV",
        "outputId": "88989c3a-3875-4ed2-ecf1-da451af4b171"
      },
      "execution_count": null,
      "outputs": [
        {
          "output_type": "stream",
          "name": "stdout",
          "text": [
            "Using device: cuda\n"
          ]
        }
      ]
    },
    {
      "cell_type": "code",
      "source": [
        "class LinearRegressionModel(nn.Module):\n",
        "  def __init__(self):\n",
        "    super().__init__()\n",
        "    self.linear_layer = nn.Linear(in_features=1,out_features=1)\n",
        "\n",
        "  def forward(self,x):\n",
        "    return self.linear_layer(x)"
      ],
      "metadata": {
        "id": "6CPJZcUPOmnu"
      },
      "execution_count": null,
      "outputs": []
    },
    {
      "cell_type": "code",
      "source": [
        "torch.manual_seed(42)\n",
        "model  = LinearRegressionModel()\n",
        "model.state_dict()"
      ],
      "metadata": {
        "colab": {
          "base_uri": "https://localhost:8080/"
        },
        "id": "_P9njwDFQm6m",
        "outputId": "56ffed16-e362-40f9-df25-70ef76e00d75"
      },
      "execution_count": null,
      "outputs": [
        {
          "output_type": "execute_result",
          "data": {
            "text/plain": [
              "OrderedDict([('linear_layer.weight', tensor([[0.7645]])),\n",
              "             ('linear_layer.bias', tensor([0.8300]))])"
            ]
          },
          "metadata": {},
          "execution_count": 24
        }
      ]
    },
    {
      "cell_type": "code",
      "source": [
        "next(model.parameters()).device"
      ],
      "metadata": {
        "colab": {
          "base_uri": "https://localhost:8080/"
        },
        "id": "-PfVyk6RR1Da",
        "outputId": "cb49773b-2992-4573-c757-a9dc6a6d1532"
      },
      "execution_count": null,
      "outputs": [
        {
          "output_type": "execute_result",
          "data": {
            "text/plain": [
              "device(type='cpu')"
            ]
          },
          "metadata": {},
          "execution_count": 25
        }
      ]
    },
    {
      "cell_type": "code",
      "source": [
        "model.to(device)"
      ],
      "metadata": {
        "colab": {
          "base_uri": "https://localhost:8080/"
        },
        "id": "tbGzsukER8xX",
        "outputId": "b4bff394-4241-46d1-e3ca-30add1aba828"
      },
      "execution_count": null,
      "outputs": [
        {
          "output_type": "execute_result",
          "data": {
            "text/plain": [
              "LinearRegressionModel(\n",
              "  (linear_layer): Linear(in_features=1, out_features=1, bias=True)\n",
              ")"
            ]
          },
          "metadata": {},
          "execution_count": 26
        }
      ]
    },
    {
      "cell_type": "code",
      "source": [
        "loss_fn = nn.L1Loss()\n",
        "optimizer = torch.optim.SGD(params=model.parameters(),lr=0.01,)"
      ],
      "metadata": {
        "id": "7a8q_ZBRStcN"
      },
      "execution_count": null,
      "outputs": []
    },
    {
      "cell_type": "code",
      "source": [
        "torch.manual_seed(42)\n",
        "epchos = 1000\n",
        "\n",
        "X_train = X_train.to(device)\n",
        "Y_train = Y_train.to(device)\n",
        "X_test = X_test.to(device)\n",
        "Y_test = Y_test.to(device)\n",
        "\n",
        "\n",
        "epoch_count = []\n",
        "loss_count=[]\n",
        "test_loss_count=[]\n",
        "\n",
        "for epoch in range(epchos):\n",
        "  model.train()\n",
        "\n",
        "  y_preds = model(X_train)\n",
        "\n",
        "  loss = loss_fn(y_preds,Y_train)\n",
        "\n",
        "  optimizer.zero_grad()\n",
        "\n",
        "  loss.backward()\n",
        "\n",
        "  optimizer.step()\n",
        "\n",
        "  model.eval()\n",
        "\n",
        "\n",
        "  with torch.inference_mode():\n",
        "    y_preds=model(X_test)\n",
        "    test_loss = loss_fn(y_preds,Y_test)\n",
        "\n",
        "  if (epoch%100 == 0):\n",
        "    epoch_count.append(epoch)\n",
        "    loss_count.append(loss)\n",
        "    test_loss_count.append(test_loss)\n",
        "\n",
        "    print(f\"Epoch:{epoch} | Loss:{loss} | Test Loss:{test_loss}\")\n",
        "    print(model.state_dict())\n",
        "    print(\"\\n\")\n",
        "\n",
        "plot_prediction(prediction=y_preds.cpu())\n",
        "\n"
      ],
      "metadata": {
        "colab": {
          "base_uri": "https://localhost:8080/",
          "height": 1000
        },
        "id": "kasQbtwGTFJ5",
        "outputId": "28fc7374-c754-41d1-ca50-fbc2d87227ce"
      },
      "execution_count": null,
      "outputs": [
        {
          "output_type": "stream",
          "name": "stdout",
          "text": [
            "Epoch:0 | Loss:0.5551779866218567 | Test Loss:0.5739762187004089\n",
            "OrderedDict([('linear_layer.weight', tensor([[0.7606]], device='cuda:0')), ('linear_layer.bias', tensor([0.8200], device='cuda:0'))])\n",
            "\n",
            "\n",
            "Epoch:100 | Loss:0.006215683650225401 | Test Loss:0.014086711220443249\n",
            "OrderedDict([('linear_layer.weight', tensor([[0.6707]], device='cuda:0')), ('linear_layer.bias', tensor([0.3120], device='cuda:0'))])\n",
            "\n",
            "\n",
            "Epoch:200 | Loss:0.0012645035749301314 | Test Loss:0.013801801018416882\n",
            "OrderedDict([('linear_layer.weight', tensor([[0.6929]], device='cuda:0')), ('linear_layer.bias', tensor([0.2925], device='cuda:0'))])\n",
            "\n",
            "\n",
            "Epoch:300 | Loss:0.0012645035749301314 | Test Loss:0.013801801018416882\n",
            "OrderedDict([('linear_layer.weight', tensor([[0.6929]], device='cuda:0')), ('linear_layer.bias', tensor([0.2925], device='cuda:0'))])\n",
            "\n",
            "\n",
            "Epoch:400 | Loss:0.0012645035749301314 | Test Loss:0.013801801018416882\n",
            "OrderedDict([('linear_layer.weight', tensor([[0.6929]], device='cuda:0')), ('linear_layer.bias', tensor([0.2925], device='cuda:0'))])\n",
            "\n",
            "\n",
            "Epoch:500 | Loss:0.0012645035749301314 | Test Loss:0.013801801018416882\n",
            "OrderedDict([('linear_layer.weight', tensor([[0.6929]], device='cuda:0')), ('linear_layer.bias', tensor([0.2925], device='cuda:0'))])\n",
            "\n",
            "\n",
            "Epoch:600 | Loss:0.0012645035749301314 | Test Loss:0.013801801018416882\n",
            "OrderedDict([('linear_layer.weight', tensor([[0.6929]], device='cuda:0')), ('linear_layer.bias', tensor([0.2925], device='cuda:0'))])\n",
            "\n",
            "\n",
            "Epoch:700 | Loss:0.0012645035749301314 | Test Loss:0.013801801018416882\n",
            "OrderedDict([('linear_layer.weight', tensor([[0.6929]], device='cuda:0')), ('linear_layer.bias', tensor([0.2925], device='cuda:0'))])\n",
            "\n",
            "\n",
            "Epoch:800 | Loss:0.0012645035749301314 | Test Loss:0.013801801018416882\n",
            "OrderedDict([('linear_layer.weight', tensor([[0.6929]], device='cuda:0')), ('linear_layer.bias', tensor([0.2925], device='cuda:0'))])\n",
            "\n",
            "\n",
            "Epoch:900 | Loss:0.0012645035749301314 | Test Loss:0.013801801018416882\n",
            "OrderedDict([('linear_layer.weight', tensor([[0.6929]], device='cuda:0')), ('linear_layer.bias', tensor([0.2925], device='cuda:0'))])\n",
            "\n",
            "\n"
          ]
        },
        {
          "output_type": "display_data",
          "data": {
            "text/plain": [
              "<Figure size 640x480 with 1 Axes>"
            ],
            "image/png": "[encoded data removed]"
          },
          "metadata": {}
        }
      ]
    },
    {
      "cell_type": "code",
      "source": [
        "from pathlib import Path\n",
        "\n",
        "MODEL_PATH = Path(\"model\")\n",
        "MODEL_PATH.mkdir(parents=True,exist_ok=True)\n",
        "\n",
        "MODEL_NAME = \"01_pytorch_workflow.pth\"\n",
        "MODEL_SAVE_PATH = MODEL_PATH / MODEL_NAME\n",
        "\n",
        "print(f\"SAVING TO: {MODEL_SAVE_PATH}\")\n",
        "torch.save(obj = model.state_dict(),f = MODEL_SAVE_PATH)\n"
      ],
      "metadata": {
        "colab": {
          "base_uri": "https://localhost:8080/"
        },
        "id": "JZn8hd-Wexjj",
        "outputId": "b1a3aee9-b1cc-4969-c0b0-fedc073c3199"
      },
      "execution_count": null,
      "outputs": [
        {
          "output_type": "stream",
          "name": "stdout",
          "text": [
            "SAVING TO: model/01_pytorch_workflow.pth\n"
          ]
        }
      ]
    },
    {
      "cell_type": "code",
      "source": [
        "loaded_model = LinearRegressionModel()\n",
        "loaded_model.load_state_dict(torch.load(f= MODEL_SAVE_PATH))\n",
        "\n",
        "loaded_model.to(device)"
      ],
      "metadata": {
        "colab": {
          "base_uri": "https://localhost:8080/"
        },
        "id": "SePm2S8pe22L",
        "outputId": "ad528033-5cd3-4f47-a913-379cde73a978"
      },
      "execution_count": null,
      "outputs": [
        {
          "output_type": "stream",
          "name": "stderr",
          "text": [
            "<ipython-input-35-9a17164f3c39>:2: FutureWarning: You are using `torch.load` with `weights_only=False` (the current default value), which uses the default pickle module implicitly. It is possible to construct malicious pickle data which will execute arbitrary code during unpickling (See https://github.com/pytorch/pytorch/blob/main/SECURITY.md#untrusted-models for more details). In a future release, the default value for `weights_only` will be flipped to `True`. This limits the functions that could be executed during unpickling. Arbitrary objects will no longer be allowed to be loaded via this mode unless they are explicitly allowlisted by the user via `torch.serialization.add_safe_globals`. We recommend you start setting `weights_only=True` for any use case where you don't have full control of the loaded file. Please open an issue on GitHub for any issues related to this experimental feature.\n",
            "  loaded_model.load_state_dict(torch.load(f= MODEL_SAVE_PATH))\n"
          ]
        },
        {
          "output_type": "execute_result",
          "data": {
            "text/plain": [
              "LinearRegressionModel(\n",
              "  (linear_layer): Linear(in_features=1, out_features=1, bias=True)\n",
              ")"
            ]
          },
          "metadata": {},
          "execution_count": 35
        }
      ]
    },
    {
      "cell_type": "code",
      "source": [
        "loaded_model.eval()\n",
        "with torch.inference_mode():\n",
        "  loaded_model_preds = loaded_model(X_test)\n",
        "\n",
        "loaded_model_preds == y_preds"
      ],
      "metadata": {
        "colab": {
          "base_uri": "https://localhost:8080/"
        },
        "id": "DMwX1O7Ve7oA",
        "outputId": "bc2b47aa-f4ee-4797-f2df-ae26158b9a5b"
      },
      "execution_count": null,
      "outputs": [
        {
          "output_type": "execute_result",
          "data": {
            "text/plain": [
              "tensor([[True],\n",
              "        [True],\n",
              "        [True],\n",
              "        [True],\n",
              "        [True],\n",
              "        [True],\n",
              "        [True],\n",
              "        [True],\n",
              "        [True],\n",
              "        [True]], device='cuda:0')"
            ]
          },
          "metadata": {},
          "execution_count": 36
        }
      ]
    }
  ]
}